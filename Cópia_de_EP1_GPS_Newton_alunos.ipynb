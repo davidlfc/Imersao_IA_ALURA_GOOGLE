{
  "nbformat": 4,
  "nbformat_minor": 0,
  "metadata": {
    "colab": {
      "provenance": [],
      "toc_visible": true,
      "include_colab_link": true
    },
    "kernelspec": {
      "name": "python3",
      "display_name": "Python 3"
    },
    "language_info": {
      "name": "python"
    }
  },
  "cells": [
    {
      "cell_type": "markdown",
      "metadata": {
        "id": "view-in-github",
        "colab_type": "text"
      },
      "source": [
        "<a href=\"https://colab.research.google.com/github/davidlfc/Imersao_IA_ALURA_GOOGLE/blob/main/C%C3%B3pia_de_EP1_GPS_Newton_alunos.ipynb\" target=\"_parent\"><img src=\"https://colab.research.google.com/assets/colab-badge.svg\" alt=\"Open In Colab\"/></a>"
      ]
    },
    {
      "cell_type": "markdown",
      "source": [
        "# MAP3121 - Exercício programa 1 - 2025 - Turmas 4 a 11\n",
        "\n",
        "## GPS e o Método de Newton"
      ],
      "metadata": {
        "id": "puVdXRHdh1JK"
      }
    },
    {
      "cell_type": "markdown",
      "source": [
        "## O sistema de posicionamento global\n",
        "\n",
        "<p align = \"justify\">O Sistema de Posicionamento Global (GPS, sigla do nome em inglês) é um\n",
        "sistema de navegação formado por uma rede de pelo menos 24 satélites orbitando a Terra e\n",
        "transmitindo sinais para os receptores GPS, que usam triangulação para calcular\n",
        "a localização do usuário. Na descrição a seguir, o sistema de coordenadas tem\n",
        "sua origem $O$ no centro da Terra, o eixo $Oz$ positivo aponta na direção do Polo\n",
        "Norte, o plano $Oxy$ é o plano do equador com o eixo $Ox$ positivo cortando o\n",
        "meridiano de Greenwich e o eixo $Oy$ positivo corta o meridiano de longitude\n",
        "$90^{\\circ}$E.</p>\n",
        "\n",
        "<p align = \"justify\">Um dado satélite $i$ transmite a sua posição atual $(x_i , y_i , z_i)$ e o instante $te_i$\n",
        "de emissão do sinal. O receptor GPS grava esta informação juntamente com\n",
        "o instante $tr_i$ da recepção do sinal. Entretanto, o relógio do receptor é menos\n",
        "preciso do que o relógio do satélite, havendo um erro de sincronia $T$ . O instante\n",
        "correto da recepção é $tr_i - T$ . Se $T > 0$ o relógio do receptor está adiantado e\n",
        "se $T < 0$ ele está atrasado.</p>\n",
        "\n",
        "<p align = \"justify\">Portanto, o tempo que o sinal leva do satélite ao receptor é $t_i - T$ , onde\n",
        "$t_i = tr_i - te_i$ é o lapso de tempo aparente, e o receptor deve estar na superfı́cie\n",
        "da esfera de raio $c(t_i - T)$ e centro $(x_i , y_i , z_i)$, onde $c = 299792458$ m/s é a\n",
        "velocidade da luz no vácuo. As coordenadas $(x, y, z)$ do receptor devem então\n",
        "satisfazer a relação</p>\n",
        "\n",
        "\\begin{equation*}\n",
        "  (x - x_i)^2 + (y - y_i)^2 + (z - z_i)^2 = (w_i - w)^2\n",
        "\\end{equation*}\n",
        "\n",
        "<p align = \"justify\">em que $w_i = ct_i$ e $w = cT$ (ao multiplicarmos por c, ficamos apenas com dimensões\n",
        "espaciais).</p>\n",
        "\n",
        "<p align = \"justify\">Em qualquer instante, dados de 5 a 8 satélites são obtidos pelo receptor em\n",
        "qualquer ponto da terra. Então, assumindo que temos dados de $n > 4$ satélites,\n",
        "as 4 incógnitas $(x, y, z, w)$ devem satisfazer as equações</p>\n",
        "\n",
        "\\begin{equation}\n",
        "  r_i(x,y,z,w) = (x - x_i)^2 + (y - y_i)^2 + (z - z_i)^2 - (w_i - w)^2 = 0, \\tag{1}\n",
        "\\end{equation}\n",
        "\n",
        "<p align = \"justify\">$1 \\le i \\le n$, que formam um sistema não-linear sobredeterminado. Como as\n",
        "medidas estão sujeitas a erros, este sistema em geral não tem solução (se não\n",
        "houvesse erros, bastaria resolver 4 das n equações).</p>"
      ],
      "metadata": {
        "id": "vbvUFUxClBkQ"
      }
    },
    {
      "cell_type": "markdown",
      "source": [
        "## Mínimos quadrados não-lineares\n",
        "\n",
        "Uma maneira de se resolver o problema acima é tratá-lo como um problema\n",
        "de mı́nimos quadrados, procurando-se **minimizar a soma dos quadrados dos resı́duos** $r_i$ , ou seja, determinando-se $\\bar x$, $\\bar y$, $\\bar z$ e $\\bar w$ que minimizam\n",
        "\n",
        "$$\n",
        "  g(x,y,z,w) = \\sum_{i=1}^n r_i(x,y,z,w)^2.\n",
        "$$\n",
        "\n",
        "Uma condição necessária que um ponto de mínimo deve satisfazer é\n",
        "\n",
        "\\begin{equation}\n",
        "  \\nabla g(x, y, z, w) = 0 \\tag{2}\n",
        "\\end{equation}\n",
        "\n",
        "<p align = \"justify\">em que $\\nabla g$ é o gradiente de $g$ em relação a $x$, $y$, $z$ e $w$. A condição acima é um\n",
        "sistema não-linear de 4 equações e 4 incógnitas, que será resolvido usando o\n",
        "método de Newton.</p>"
      ],
      "metadata": {
        "id": "IE6zOZ9ZxOnU"
      }
    },
    {
      "cell_type": "markdown",
      "source": [
        "## Mínimos quadrados lineares\n",
        "\n",
        "<p align = \"justify\">Suponha que as equações $(1)$ são exatas. Se subtrairmos a equação $n$ da\n",
        "equação $i$, os termos quadráticos cancelam e portanto das relações</p>\n",
        "\n",
        "\\begin{equation}\n",
        "  r_i(x,y,z,w) - r_n(x,y,z,w) = 0,\\quad 1 \\le i \\le n-1 \\tag{3}\n",
        "\\end{equation}\n",
        "\n",
        "<p align = \"justify\">obtemos um sistema linear sobredeterminado para as incógnitas que pode ser\n",
        "resolvido no sentido de mı́nimos quadrados como foi visto\n",
        "em aula.</p>\n",
        "\n",
        "<p align = \"justify\">Se $A$ denota a matriz do sistema linear, $\\mathbf{x}$ o vetor incógnita e $\\mathbf{b}$ o lado\n",
        "direito do sistema linear, a solução de $A\\mathbf{x} = \\mathbf{b}$ no sentido de mı́nimos quadrados\n",
        "é a solução do sistema normal $A^TA\\mathbf{x} = A^T\\mathbf{b}$. Esta solução pode ser usada\n",
        "como uma aproximação em si para a localização usando GPS, e também como\n",
        "aproximação inicial para a resolução de $(2)$ usando o método de Newton.</p>"
      ],
      "metadata": {
        "id": "4H0HEkLT7O5f"
      }
    },
    {
      "cell_type": "markdown",
      "source": [
        "## ❗Exercício 1\n",
        "\n",
        "<p align = \"justify\">Escreva explicitamente o sistema não-linear $(2)$ e o sistema linear sobredeterminado $(3)$. Você não precisa entregar as respostas. Conhecê-las é importante para as implementações.</p>"
      ],
      "metadata": {
        "id": "atZyyNoe81d4"
      }
    },
    {
      "cell_type": "code",
      "source": [
        "# Sistema não-linear (gradiente de g)\n",
        "from sympy import symbols, Eq, diff, Function, summation, simplify\n",
        "\n",
        "# Variáveis simbólicas\n",
        "x, y, z, w = symbols('x y z w')\n",
        "xi, yi, zi, wi = symbols('x_i y_i z_i w_i')\n",
        "n = symbols('n', integer=True)\n",
        "\n",
        "# Residuo simbólico genérico\n",
        "r = (x - xi)**2 + (y - yi)**2 + (z - zi)**2 - (wi - w)**2\n",
        "\n",
        "# Função objetivo g = soma dos resíduos ao quadrado\n",
        "g_i = r**2\n",
        "\n",
        "# Derivadas parciais (gradiente de g)\n",
        "dg_dx = diff(g_i, x)\n",
        "dg_dy = diff(g_i, y)\n",
        "dg_dz = diff(g_i, z)\n",
        "dg_dw = diff(g_i, w)\n",
        "\n",
        "# sistema não-linear ∇g = 0\n",
        "print(\"Sistema não-linear (∇g = 0):\")\n",
        "display(Eq(diff(g_i, x), 0))\n",
        "display(Eq(diff(g_i, y), 0))\n",
        "display(Eq(diff(g_i, z), 0))\n",
        "display(Eq(diff(g_i, w), 0))\n"
      ],
      "metadata": {
        "colab": {
          "base_uri": "https://localhost:8080/",
          "height": 156
        },
        "id": "beXdvi0BoecH",
        "outputId": "fb86c751-400f-45f4-e56f-837e17fdf014"
      },
      "execution_count": 19,
      "outputs": [
        {
          "output_type": "stream",
          "name": "stdout",
          "text": [
            "Sistema não-linear (∇g = 0):\n"
          ]
        },
        {
          "output_type": "display_data",
          "data": {
            "text/plain": [
              "Eq((4*x - 4*x_i)*(-(-w + w_i)**2 + (x - x_i)**2 + (y - y_i)**2 + (z - z_i)**2), 0)"
            ],
            "text/latex": "$\\displaystyle \\left(4 x - 4 x_{i}\\right) \\left(- \\left(- w + w_{i}\\right)^{2} + \\left(x - x_{i}\\right)^{2} + \\left(y - y_{i}\\right)^{2} + \\left(z - z_{i}\\right)^{2}\\right) = 0$"
          },
          "metadata": {}
        },
        {
          "output_type": "display_data",
          "data": {
            "text/plain": [
              "Eq((4*y - 4*y_i)*(-(-w + w_i)**2 + (x - x_i)**2 + (y - y_i)**2 + (z - z_i)**2), 0)"
            ],
            "text/latex": "$\\displaystyle \\left(4 y - 4 y_{i}\\right) \\left(- \\left(- w + w_{i}\\right)^{2} + \\left(x - x_{i}\\right)^{2} + \\left(y - y_{i}\\right)^{2} + \\left(z - z_{i}\\right)^{2}\\right) = 0$"
          },
          "metadata": {}
        },
        {
          "output_type": "display_data",
          "data": {
            "text/plain": [
              "Eq((4*z - 4*z_i)*(-(-w + w_i)**2 + (x - x_i)**2 + (y - y_i)**2 + (z - z_i)**2), 0)"
            ],
            "text/latex": "$\\displaystyle \\left(4 z - 4 z_{i}\\right) \\left(- \\left(- w + w_{i}\\right)^{2} + \\left(x - x_{i}\\right)^{2} + \\left(y - y_{i}\\right)^{2} + \\left(z - z_{i}\\right)^{2}\\right) = 0$"
          },
          "metadata": {}
        },
        {
          "output_type": "display_data",
          "data": {
            "text/plain": [
              "Eq((-4*w + 4*w_i)*(-(-w + w_i)**2 + (x - x_i)**2 + (y - y_i)**2 + (z - z_i)**2), 0)"
            ],
            "text/latex": "$\\displaystyle \\left(- 4 w + 4 w_{i}\\right) \\left(- \\left(- w + w_{i}\\right)^{2} + \\left(x - x_{i}\\right)^{2} + \\left(y - y_{i}\\right)^{2} + \\left(z - z_{i}\\right)^{2}\\right) = 0$"
          },
          "metadata": {}
        }
      ]
    },
    {
      "cell_type": "code",
      "source": [
        "# Sistema linear sobredeterminado (diferença entre r_i e r_n)\n",
        "xi, yi, zi, wi = symbols('x_i y_i z_i w_i')\n",
        "xn, yn, zn, wn = symbols('x_n y_n z_n w_n')\n",
        "\n",
        "# r_i e r_n\n",
        "ri = (x - xi)**2 + (y - yi)**2 + (z - zi)**2 - (wi - w)**2\n",
        "rn = (x - xn)**2 + (y - yn)**2 + (z - zn)**2 - (wn - w)**2\n",
        "\n",
        "# Subtrair r_i - r_n\n",
        "dif = simplify(ri - rn)\n",
        "\n",
        "print(\"Sistema linear sobredeterminado (r_i - r_n = 0):\")\n",
        "display(Eq(ri - rn, 0))\n",
        "display(Eq(dif, 0))\n"
      ],
      "metadata": {
        "colab": {
          "base_uri": "https://localhost:8080/",
          "height": 78
        },
        "id": "39Ed1b1DoyNW",
        "outputId": "a6dd8239-bd6c-4d24-f462-f4624edbb7e3"
      },
      "execution_count": 22,
      "outputs": [
        {
          "output_type": "stream",
          "name": "stdout",
          "text": [
            "Sistema linear sobredeterminado (r_i - r_n = 0):\n"
          ]
        },
        {
          "output_type": "display_data",
          "data": {
            "text/plain": [
              "Eq(-(-w + w_i)**2 + (-w + w_n)**2 + (x - x_i)**2 - (x - x_n)**2 + (y - y_i)**2 - (y - y_n)**2 + (z - z_i)**2 - (z - z_n)**2, 0)"
            ],
            "text/latex": "$\\displaystyle - \\left(- w + w_{i}\\right)^{2} + \\left(- w + w_{n}\\right)^{2} + \\left(x - x_{i}\\right)^{2} - \\left(x - x_{n}\\right)^{2} + \\left(y - y_{i}\\right)^{2} - \\left(y - y_{n}\\right)^{2} + \\left(z - z_{i}\\right)^{2} - \\left(z - z_{n}\\right)^{2} = 0$"
          },
          "metadata": {}
        },
        {
          "output_type": "display_data",
          "data": {
            "text/plain": [
              "Eq(-(w - w_i)**2 + (w - w_n)**2 + (x - x_i)**2 - (x - x_n)**2 + (y - y_i)**2 - (y - y_n)**2 + (z - z_i)**2 - (z - z_n)**2, 0)"
            ],
            "text/latex": "$\\displaystyle - \\left(w - w_{i}\\right)^{2} + \\left(w - w_{n}\\right)^{2} + \\left(x - x_{i}\\right)^{2} - \\left(x - x_{n}\\right)^{2} + \\left(y - y_{i}\\right)^{2} - \\left(y - y_{n}\\right)^{2} + \\left(z - z_{i}\\right)^{2} - \\left(z - z_{n}\\right)^{2} = 0$"
          },
          "metadata": {}
        }
      ]
    },
    {
      "cell_type": "markdown",
      "source": [
        "## Método de Newton para sistemas não lineares\n",
        "\n",
        "<p align = \"justify\">Vamos descrever o método de Newton para determinação de raı́zes de funções $F(x)$ de $\\mathbb{R}^n$ em $\\mathbb{R}^n$. Como no caso unidimensional, parte-se de uma aproximação inicial $x^{0}$ para o valor $\\bar{x}\\in\\mathbb{R}^n$ tal que $F(\\bar{x})=0$ e calcula-se a sequência\n",
        "\n",
        "$$\n",
        "  x^{(k+1)} = x^{(k)} - J_F^{-1}(x^{(k)})F(x^{(k)})\n",
        "$$\n",
        "em que $J_F(x)$ é a matriz Jacobiana de $F$avaliada no ponto $x$:\n",
        "\n",
        "$$\n",
        "  J_F(x) = \\left[\\begin{array}{cccc}\n",
        "  \\frac{\\partial F_1(x)}{\\partial x_1} & \\frac{\\partial F_1(x)}{\\partial x_2} & \\cdots & \\frac{\\partial F_1(x)}{\\partial x_n}\\\\\n",
        "  \\frac{\\partial F_2(x)}{\\partial x_1} & \\frac{\\partial F_2(x)}{\\partial x_2} & \\cdots & \\frac{\\partial F_2(x)}{\\partial x_n}\\\\\n",
        "  \\vdots & \\vdots & \\cdots & \\vdots\\\\\n",
        "  \\frac{\\partial F_n(x)}{\\partial x_1} & \\frac{\\partial F_n(x)}{\\partial x_2} & \\cdots & \\frac{\\partial F_n(x)}{\\partial x_n}\n",
        "  \\end{array}\\right],\n",
        "$$\n",
        "\n",
        "onde $F_1(x)$, $F_2(x)$, $\\cdots$, $F_n(x)$ são as componentes de $F(x)$.</p>\n",
        "\n",
        "Se reescrevermos as iterações do Método de Newton como\n",
        "\n",
        "$$\n",
        "  J_F(x^{(k)})(x^{(k+1)}-x^{(k)}) = -F(x^{(k)}),\n",
        "$$\n",
        "\n",
        "<p align = \"justify\">é possível perceber que não é necessário inverter a matriz Jacobiana de $F$ a cada passo, que seria muito custoso. A cada passo do Método de Newton, resolve-se o sistema linear</p>\n",
        "\n",
        "$$\n",
        "  J_F(x^{(k)})\\cdot\\mathbf{c} = -F(x^{(k)})\n",
        "$$\n",
        "\n",
        "e calcula-se a nova aproximação como\n",
        "\n",
        "$$\n",
        "  x^{(k+1)} = x^{(k)} + \\mathbf{c}\n",
        "$$\n",
        "\n",
        "<p align = \"justify\">Quando F é de classe\n",
        "$C^2$ e a matriz Jacobiana é não singular na raiz de $F$ (ou seja, tem determinante\n",
        "não nulo), pode-se mostrar que o método de Newton converge quadraticamente\n",
        "para a raiz de $F$ , desde que $x^{(0)}$ seja escolhido suficientemente próximo da raiz.</p>"
      ],
      "metadata": {
        "id": "IQKvbJlSQcJb"
      }
    },
    {
      "cell_type": "markdown",
      "source": [
        "## ❗Exercício 2\n",
        "\n",
        "Para $F(x,y,z,w) = \\nabla g(x,y,z,w)$, qual é a expressão para $J_F(x,y,z,w)$?"
      ],
      "metadata": {
        "id": "0eJZZ2BloA_p"
      }
    },
    {
      "cell_type": "code",
      "source": [
        "import sympy as sp\n",
        "from IPython.display import display\n",
        "\n",
        "# Variáveis\n",
        "x, y, z, w = sp.symbols('x y z w')\n",
        "xi, yi, zi, wi = sp.symbols('x_i y_i z_i w_i')\n",
        "\n",
        "# Residuo r_i\n",
        "r = (x - xi)**2 + (y - yi)**2 + (z - zi)**2 - (wi - w)**2\n",
        "\n",
        "# g_i = r_i^2\n",
        "g_i = r**2\n",
        "\n",
        "# F = gradiente de g_i\n",
        "F = sp.Matrix([\n",
        "    sp.diff(g_i, x),\n",
        "    sp.diff(g_i, y),\n",
        "    sp.diff(g_i, z),\n",
        "    sp.diff(g_i, w)\n",
        "])\n",
        "\n",
        "# Jacobiana de F (Hessiana de g_i)\n",
        "JF = F.jacobian([x, y, z, w])\n",
        "\n",
        "# Exibir a matriz Jacobiana\n",
        "print(\"Matriz Jacobiana J_F(x, y, z, w) = Hessiana de g:\")\n",
        "display(JF)\n"
      ],
      "metadata": {
        "colab": {
          "base_uri": "https://localhost:8080/",
          "height": 143
        },
        "id": "9-xpfvfRqyVE",
        "outputId": "68fa96f4-92b5-4657-efc8-37f232a4142a"
      },
      "execution_count": 21,
      "outputs": [
        {
          "output_type": "stream",
          "name": "stdout",
          "text": [
            "Matriz Jacobiana J_F(x, y, z, w) = Hessiana de g:\n"
          ]
        },
        {
          "output_type": "display_data",
          "data": {
            "text/plain": [
              "Matrix([\n",
              "[-4*(-w + w_i)**2 + 4*(x - x_i)**2 + (2*x - 2*x_i)*(4*x - 4*x_i) + 4*(y - y_i)**2 + 4*(z - z_i)**2,                                                                       (4*x - 4*x_i)*(2*y - 2*y_i),                                                                       (4*x - 4*x_i)*(2*z - 2*z_i),                                                                       (-2*w + 2*w_i)*(4*x - 4*x_i)],\n",
              "[                                                                      (2*x - 2*x_i)*(4*y - 4*y_i), -4*(-w + w_i)**2 + 4*(x - x_i)**2 + 4*(y - y_i)**2 + (2*y - 2*y_i)*(4*y - 4*y_i) + 4*(z - z_i)**2,                                                                       (4*y - 4*y_i)*(2*z - 2*z_i),                                                                       (-2*w + 2*w_i)*(4*y - 4*y_i)],\n",
              "[                                                                      (2*x - 2*x_i)*(4*z - 4*z_i),                                                                       (2*y - 2*y_i)*(4*z - 4*z_i), -4*(-w + w_i)**2 + 4*(x - x_i)**2 + 4*(y - y_i)**2 + 4*(z - z_i)**2 + (2*z - 2*z_i)*(4*z - 4*z_i),                                                                       (-2*w + 2*w_i)*(4*z - 4*z_i)],\n",
              "[                                                                     (-4*w + 4*w_i)*(2*x - 2*x_i),                                                                      (-4*w + 4*w_i)*(2*y - 2*y_i),                                                                      (-4*w + 4*w_i)*(2*z - 2*z_i), (-4*w + 4*w_i)*(-2*w + 2*w_i) + 4*(-w + w_i)**2 - 4*(x - x_i)**2 - 4*(y - y_i)**2 - 4*(z - z_i)**2]])"
            ],
            "text/latex": "$\\displaystyle \\left[\\begin{matrix}- 4 \\left(- w + w_{i}\\right)^{2} + 4 \\left(x - x_{i}\\right)^{2} + \\left(2 x - 2 x_{i}\\right) \\left(4 x - 4 x_{i}\\right) + 4 \\left(y - y_{i}\\right)^{2} + 4 \\left(z - z_{i}\\right)^{2} & \\left(4 x - 4 x_{i}\\right) \\left(2 y - 2 y_{i}\\right) & \\left(4 x - 4 x_{i}\\right) \\left(2 z - 2 z_{i}\\right) & \\left(- 2 w + 2 w_{i}\\right) \\left(4 x - 4 x_{i}\\right)\\\\\\left(2 x - 2 x_{i}\\right) \\left(4 y - 4 y_{i}\\right) & - 4 \\left(- w + w_{i}\\right)^{2} + 4 \\left(x - x_{i}\\right)^{2} + 4 \\left(y - y_{i}\\right)^{2} + \\left(2 y - 2 y_{i}\\right) \\left(4 y - 4 y_{i}\\right) + 4 \\left(z - z_{i}\\right)^{2} & \\left(4 y - 4 y_{i}\\right) \\left(2 z - 2 z_{i}\\right) & \\left(- 2 w + 2 w_{i}\\right) \\left(4 y - 4 y_{i}\\right)\\\\\\left(2 x - 2 x_{i}\\right) \\left(4 z - 4 z_{i}\\right) & \\left(2 y - 2 y_{i}\\right) \\left(4 z - 4 z_{i}\\right) & - 4 \\left(- w + w_{i}\\right)^{2} + 4 \\left(x - x_{i}\\right)^{2} + 4 \\left(y - y_{i}\\right)^{2} + 4 \\left(z - z_{i}\\right)^{2} + \\left(2 z - 2 z_{i}\\right) \\left(4 z - 4 z_{i}\\right) & \\left(- 2 w + 2 w_{i}\\right) \\left(4 z - 4 z_{i}\\right)\\\\\\left(- 4 w + 4 w_{i}\\right) \\left(2 x - 2 x_{i}\\right) & \\left(- 4 w + 4 w_{i}\\right) \\left(2 y - 2 y_{i}\\right) & \\left(- 4 w + 4 w_{i}\\right) \\left(2 z - 2 z_{i}\\right) & \\left(- 4 w + 4 w_{i}\\right) \\left(- 2 w + 2 w_{i}\\right) + 4 \\left(- w + w_{i}\\right)^{2} - 4 \\left(x - x_{i}\\right)^{2} - 4 \\left(y - y_{i}\\right)^{2} - 4 \\left(z - z_{i}\\right)^{2}\\end{matrix}\\right]$"
          },
          "metadata": {}
        }
      ]
    },
    {
      "cell_type": "markdown",
      "source": [
        "# Tarefa\n",
        "\n",
        "<p align = \"justify\">Você deve implementar um algoritmo para resolver um sistema não linear com $m$ equações e $m$ incógnitas.\n",
        "Várias funções são necessárias para esta implementação. Comecemos por carregar o numpy. É o $\\mathbf{único}$ módulo do Python que você irá usar.</p>"
      ],
      "metadata": {
        "id": "UUTxthhOqVjR"
      }
    },
    {
      "cell_type": "code",
      "source": [
        "import numpy as np\n",
        "\n",
        "def newton_system(F, JF, x0, tol=1e-8, max_iter=100):\n",
        "    \"\"\"\n",
        "    Resolve F(x) = 0 usando o Método de Newton para sistemas não lineares.\n",
        "\n",
        "    Parâmetros:\n",
        "    - F: função que recebe um vetor x e retorna um vetor F(x) ∈ R^m\n",
        "    - JF: função que recebe um vetor x e retorna a matriz Jacobiana JF(x) ∈ R^{m x m}\n",
        "    - x0: aproximação inicial (numpy array)\n",
        "    - tol: tolerância para critério de parada (norma do incremento)\n",
        "    - max_iter: número máximo de iterações\n",
        "\n",
        "    Retorno:\n",
        "    - vetor solução x ∈ R^m\n",
        "    \"\"\"\n",
        "    x = x0.astype(float)\n",
        "    for k in range(max_iter):\n",
        "        Fx = F(x)\n",
        "        J = JF(x)\n",
        "        try:\n",
        "            delta = np.linalg.solve(J, -Fx)\n",
        "        except np.linalg.LinAlgError:\n",
        "            raise ValueError(\"Matriz Jacobiana singular na iteração\", k)\n",
        "        x = x + delta\n",
        "        if np.linalg.norm(delta, ord=2) < tol:\n",
        "            print(f\"Convergência em {k+1} iterações.\")\n",
        "            return x\n",
        "    raise ValueError(\"Método de Newton não convergiu após\", max_iter, \"iterações.\")\n"
      ],
      "metadata": {
        "id": "EJ87seS26vQG"
      },
      "execution_count": 1,
      "outputs": []
    },
    {
      "cell_type": "markdown",
      "source": [
        "## Resolução de sistemas lineares\n",
        "\n",
        "Implemente a decomposição $LU$ de uma matriz $A$, com condensação pivotal, de acordo com o algoritmo\n",
        "\n",
        "Dados $n$ e uma matrz $A$ (n\\times n)$ temos:\n",
        "\n",
        "&ensp;  $\\bullet$ Para $k$ de $1$ a $n$ faça\n",
        "\n",
        "&emsp; &emsp; - para $i$ de $k$ a $n$ faça $$a_{ik}=a_{ik}-\\sum_{j=1}^{k-1}a_{ij}*a_{jk}$$\n",
        "\n",
        "&emsp; &emsp; - Determine $l\\ge k$ tal que $\\vert a_{lk}\\vert=\\max_{k\\le i\\le n}\\vert a_{ik}\\vert$\n",
        "\n",
        "&emsp; &emsp; - defina $p(k)=l$\n",
        "\n",
        "&emsp; &emsp; - se $k\\ne p(k)$ troque as linhas $k$ e $p(k)$ da matriz $A$\n",
        "\n",
        "&emsp; &emsp; - para $j$ de $k+1$ a $n$ faça \\begin{align} &a_{kj}=a_{kj}-\\sum_{i=1}^{k-1}a_{ki}*a_{ij}\\\\ &a_{jk} = a_{jk}/a_{kk}\\end{align}\n",
        "\n",
        "**Observações:**\n",
        "\n",
        "1. Ao final do algoritmo a matriz $L$ tem seus valores abaixo da diagonal\n",
        "principal armazenados nas posições correspondentes de A (lembre-se que\n",
        "a diagonal de L é composta de $1'$s).\n",
        "\n",
        "2. A matriz $U$ tem seus valores da diagonal principal e acima desta armazenados nas posições correspondentes de $A$.\n",
        "\n",
        "3. A decomposição $LU$ calculada corresponde à matriz $A$ permutada. As permutações realizadas estão armazenadas no vetor $p$ definido no algoritmo.\n",
        "\n",
        "4. Lembre-se que ao final do algoritmo a matriz $A$ foi modificada. Caso esta\n",
        "ainda seja necessária, uma cópia sua deve ser anteriormente salva.\n",
        "\n",
        "5. Somatórios de $1$ a $0$ e loops de $n + 1$ a $n$ devem ser entendidos como vazios."
      ],
      "metadata": {
        "id": "hbl3PYg_uKdi"
      }
    },
    {
      "cell_type": "code",
      "source": [
        "import numpy as np\n",
        "\n",
        "def lu_dcmp(A):\n",
        "    \"\"\"\n",
        "    Calcula a decomposição LU da matriz A com condensação pivotal,\n",
        "    armazenando L (sem diagonal) abaixo da diagonal e U na diagonal e acima.\n",
        "\n",
        "    Parâmetros:\n",
        "    - A: matriz quadrada n x n (numpy array)\n",
        "\n",
        "    Retorna:\n",
        "    - A_cp: matriz LU modificada com L e U embutidas\n",
        "    - p: vetor de permutação das linhas\n",
        "    \"\"\"\n",
        "\n",
        "    A_cp = np.copy(A).astype(float)  # Garantir precisão float\n",
        "    n = A_cp.shape[0]\n",
        "    p = np.arange(n)  # vetor de permutação de linhas\n",
        "\n",
        "    for k in range(n):\n",
        "        # Etapa 1: atualizar a coluna k da linha k até n\n",
        "        for i in range(k, n):\n",
        "            soma = sum(A_cp[i, j] * A_cp[j, k] for j in range(k))\n",
        "            A_cp[i, k] = A_cp[i, k] - soma\n",
        "\n",
        "        # Etapa 2: escolher pivô máximo na coluna k\n",
        "        l = np.argmax(np.abs(A_cp[k:n, k])) + k  # índice global\n",
        "        p[k] = l\n",
        "\n",
        "        # Etapa 3: trocar linhas k e l, se necessário\n",
        "        if k != l:\n",
        "            A_cp[[k, l], :] = A_cp[[l, k], :]\n",
        "\n",
        "        # Etapa 4: atualizar linha k e os elementos abaixo de k\n",
        "        for j in range(k+1, n):\n",
        "            soma = sum(A_cp[k, i] * A_cp[i, j] for i in range(k))\n",
        "            A_cp[k, j] = A_cp[k, j] - soma\n",
        "            A_cp[j, k] = A_cp[j, k] / A_cp[k, k]\n",
        "\n",
        "    return A_cp, p\n"
      ],
      "metadata": {
        "id": "dZCHvB9stgPP"
      },
      "execution_count": 26,
      "outputs": []
    },
    {
      "cell_type": "markdown",
      "source": [
        "Uma vez obtida a decomposição $LU$ da matriz $A$, calcule a solução do sistema linear $A\\mathbf{x} = \\mathbf{b}$."
      ],
      "metadata": {
        "id": "fPmwBIHtTIjs"
      }
    },
    {
      "cell_type": "code",
      "source": [
        "import numpy as np\n",
        "\n",
        "def lu_solve(LU, p, b):\n",
        "    \"\"\"\n",
        "    Resolve Ax = b usando a decomposição LU com pivotamento armazenada em LU.\n",
        "\n",
        "    Entradas:\n",
        "    - LU: matriz que contém L e U embutidas\n",
        "    - p: vetor de permutação de linhas\n",
        "    - b: vetor do lado direito (n-dimensional)\n",
        "\n",
        "    Saída:\n",
        "    - x: vetor solução\n",
        "    \"\"\"\n",
        "    n = len(b)\n",
        "    y = np.zeros(n)\n",
        "    x = np.zeros(n)\n",
        "\n",
        "    # Aplicar permutação no vetor b: Pb\n",
        "    b_perm = b.copy().astype(float)\n",
        "    for k in range(n):\n",
        "        if p[k] != k:\n",
        "            b_perm[[k, p[k]]] = b_perm[[p[k], k]]\n",
        "\n",
        "    # Substituição direta: resolver L y = Pb\n",
        "    for i in range(n):\n",
        "        y[i] = b_perm[i] - sum(LU[i, j] * y[j] for j in range(i))\n",
        "\n",
        "    # Substituição retroativa: resolver U x = y\n",
        "    for i in reversed(range(n)):\n",
        "        x[i] = (y[i] - sum(LU[i, j] * x[j] for j in range(i+1, n))) / LU[i, i]\n",
        "\n",
        "    return x\n"
      ],
      "metadata": {
        "id": "SIwRARPYTo0e"
      },
      "execution_count": 27,
      "outputs": []
    },
    {
      "cell_type": "markdown",
      "source": [
        "Com estas implementações, podemos usar o Método de Newton para a resolução de sistemas não lineares."
      ],
      "metadata": {
        "id": "att8yjFCU1SG"
      }
    },
    {
      "cell_type": "code",
      "source": [
        "def newton_sitemas(F, JF, x0, tol, max_iter):\n",
        "    \"\"\"\n",
        "    Método de Newton para resolver F(x) = 0 usando LU com pivotamento.\n",
        "\n",
        "    Parâmetros:\n",
        "    - F: função que recebe x e retorna F(x), vetor em R^m\n",
        "    - JF: função que recebe x e retorna a matriz Jacobiana JF(x)\n",
        "    - x0: vetor inicial\n",
        "    - tol: tolerância relativa para critério de parada\n",
        "    - max_iter: número máximo de iterações\n",
        "\n",
        "    Retorna:\n",
        "    - x: aproximação da solução\n",
        "    \"\"\"\n",
        "    x = np.copy(x0).astype(float)\n",
        "\n",
        "    for k in range(max_iter):\n",
        "        xold = np.copy(x)\n",
        "\n",
        "        Fxk = F(x)           # calcula F(xk)\n",
        "        JFxk = JF(x)         # calcula JF(xk)\n",
        "\n",
        "        LU, p = lu_dcmp(JFxk)          # decomposição LU\n",
        "        c = lu_solve(LU, p, -Fxk)      # resolve JFxk * c = -F(xk)\n",
        "        x = xold + c                   # nova aproximação\n",
        "\n",
        "        # Critério de parada (erro relativo)\n",
        "        norma_c = np.max(np.abs(c))\n",
        "        norma_x = np.max(np.abs(x))\n",
        "        if norma_c < tol * max(norma_x, 1e-15):  # evita divisão por 0\n",
        "            print('Convergência em', k + 1, 'iterações.')\n",
        "            return x\n",
        "\n",
        "    print('Número máximo de iterações atingido.')\n",
        "    return x\n"
      ],
      "metadata": {
        "id": "F8Qr4ffLYgrB"
      },
      "execution_count": 8,
      "outputs": []
    },
    {
      "cell_type": "markdown",
      "source": [
        "## Testando a implementação do Método de Newton\n",
        "\n",
        "Para os dois testes abaixo, use $tol = 10^{-10}$.\n",
        "\n",
        "1. Calcule o ponto de mínimo da função $H(x,y) = (x-2)^2 + (y-3)^2$, determinando para tanto o ponto onde o seu gradiente se anula."
      ],
      "metadata": {
        "id": "MOqHUxGThjOu"
      }
    },
    {
      "cell_type": "code",
      "source": [
        "def F(x):\n",
        "    # Gradiente de H(x, y) = (x - 2)^2 + (y - 3)^2\n",
        "    return np.array([\n",
        "        2 * (x[0] - 2),\n",
        "        2 * (x[1] - 3)\n",
        "    ])\n",
        "\n",
        "def JF(x):\n",
        "    # Jacobiana da função F (nabla H)\n",
        "    return np.array([\n",
        "        [2, 0],\n",
        "        [0, 2]\n",
        "    ])\n",
        "\n",
        "x0 = np.array([0.0, 0.0])  # chute inicial\n",
        "tol = 1e-10\n",
        "max_iter = 20\n",
        "\n",
        "x = newton_sitemas(F, JF, x0, tol, max_iter)\n",
        "\n",
        "print(\"Ponto de mínimo encontrado:\", x)\n"
      ],
      "metadata": {
        "id": "EhM3SfZkkVfj",
        "colab": {
          "base_uri": "https://localhost:8080/"
        },
        "outputId": "e8816f22-119a-4210-897f-f5ef04904fa0"
      },
      "execution_count": 9,
      "outputs": [
        {
          "output_type": "stream",
          "name": "stdout",
          "text": [
            "Convergência em 2 iterações.\n",
            "Ponto de mínimo encontrado: [2. 3.]\n"
          ]
        }
      ]
    },
    {
      "cell_type": "markdown",
      "source": [
        "Quantas iterações foram necessárias? \\\\\n",
        "**Resposta:** 1 iteração.\n",
        "\n",
        "A solução calculada é exata?         \n",
        "**Resposta:** Sim, a solução encontrada é exatamente x= [2.0 , 3.0].\n",
        "\n",
        "Você sabe explicar o resultado?      \n",
        "**Responda com uma frase:** O método converge em uma única iteração porque a função é quadrática e seu gradiente é linear, com Jacobiana constante."
      ],
      "metadata": {
        "id": "h5bEkdNbmY3m"
      }
    },
    {
      "cell_type": "markdown",
      "source": [
        "2. Dada a função $F(x_1,x_2,x_3,x_4) = (4x_1-x_2+x_3-x_1x_4, -x_1+3x_2-2x_3-x_2x_4,x_1-2x_2+3x_3-x_3x_4,x_1^2+x_2^2+x_3^2-1)$, determine a raiz que se\n",
        "obtém pelo método de Newton tomando $x_0 = (1, 1, 1, 1)$. Lembre-se de usar $tol = 10^{-10}$. Imprima a solução calculada."
      ],
      "metadata": {
        "id": "7uEE9x5mnBJe"
      }
    },
    {
      "cell_type": "code",
      "source": [
        "# Você sabe o que fazer. Defina as funções F e JF, e use o método de Newton\n",
        "\n",
        "def F(x):\n",
        "    x1, x2, x3, x4 = x\n",
        "    return np.array([\n",
        "        4*x1 - x2 + x3 - x1*x4,\n",
        "        -x1 + 3*x2 - 2*x3 - x2*x4,\n",
        "        x1 - 2*x2 + 3*x3 - x3*x4,\n",
        "        x1**2 + x2**2 + x3**2 - 1\n",
        "    ])\n",
        "\n",
        "def JF(x):\n",
        "    x1, x2, x3, x4 = x\n",
        "    return np.array([\n",
        "        [4 - x4,    -1,      1,    -x1],\n",
        "        [-1,     3 - x4,   -2,    -x2],\n",
        "        [1,     -2,     3 - x4,   -x3],\n",
        "        [2*x1,   2*x2,    2*x3,     0 ]\n",
        "    ])\n",
        "\n",
        "x0 = np.array([1.0, 1.0, 1.0, 1.0])\n",
        "tol = 1e-10\n",
        "max_iter = 50\n",
        "\n",
        "x = newton_sitemas(F, JF, x0, tol, max_iter)\n",
        "\n",
        "print(\"Solução encontrada:\")\n",
        "print(x)\n"
      ],
      "metadata": {
        "id": "YPqj3Te-m9UT",
        "colab": {
          "base_uri": "https://localhost:8080/"
        },
        "outputId": "d8ada134-ba71-4843-ca89-e5cd50d1e302"
      },
      "execution_count": 11,
      "outputs": [
        {
          "output_type": "stream",
          "name": "stdout",
          "text": [
            "Convergência em 6 iterações.\n",
            "Solução encontrada:\n",
            "[0.         0.70710678 0.70710678 1.        ]\n"
          ]
        }
      ]
    },
    {
      "cell_type": "markdown",
      "source": [
        "## GPS\n",
        "\n",
        "Agora você irá usar o Método de Newton para calcular a posição $(x,y,z)$ e o erro de sincronia $T = w/c$ de um receptor de sinais de GPS. Os dados serão extraídos do arquivo *input_gps.txt* no qual estão armazenados números dispostos em $35$ linhas e $6$ colunas. Os dados estão associados a $5$ instantes de medidas e em cada instante foram usadas informações de $7$ de $25$ satélites disponíveis. Os intantes estão espaçados de $15$ em $15$ minutos.\n",
        "\n",
        "Para cada um destes instantes temos os valores $x_i$, $y_i$, $z_i$ e $w_i$ em metros, $1\\le i\\le 7$, usados de 7 satélites (os lapsos de tempo aparentes já foram convertidos para metros). Os dados no arquivo *input_gps.txt* estão dispostos da seguinte forma:\n",
        "\n",
        "> **Primeira coluna:** número identificando o satélite\n",
        "\n",
        "> **Segunda coluna:** instantes de medida (min) com os valores\n",
        "- Linhas $1$ a $7$: $\\quad \\ \\ \\ \\,0$\n",
        "- Linhas $8$ a $14$: $\\quad \\ \\,15$\n",
        "- Linhas $15$ a $21$: $\\quad 30$\n",
        "- Linhas $22$ a $28$: $\\quad 45$\n",
        "- Linhas $29$ a $35$: $\\quad 60$\n",
        "\n",
        "> **3ª, 4ª e 5ª colunas:** coordenadas dos $x_i$, $y_i$ e $z_i$ dos satélites, respectivamente, em metros\n",
        "\n",
        "> **Sexta coluna:** lapsos de tempo aparentes $w_i$, já convertidos em metros\n",
        "\n",
        "Você irá usar **somente os dados de $7$ satélites correspondentes a um único instante de medida**, calculado como o resto da divisão do seu número USP por $5$, multiplicado por $15$: $$t_m = (NUSP\\mod5)*15.$$\n",
        "\n",
        "Organize o seu programa da seguinte forma:\n",
        "\n",
        "1. Salve o conteúdo arquivo *input_gps.txt* em um numpy array com o nome input_gps. Extraia do array input_gps a parte correspondente ao seu número USP na forma de uma matriz $7\\times 6$ e imprima esta matriz. Isto ajudará a verificar se você pegou os dados corretos, pois na segunda coluna deve haver 7 números iguais correspondentes ao instante de medida."
      ],
      "metadata": {
        "id": "4K4mcWBUo6cH"
      }
    },
    {
      "cell_type": "code",
      "source": [
        "# Leitura do arquivo input_gps.txt, salvando o conteúdo em input_gps\n",
        "import gdown\n",
        "\n",
        "# Only the file ID goes here\n",
        "file_id = '1NRvx1o3hlQiwVsigVSQ2zJ_MecG78Pbu'\n",
        "url = f'https://drive.google.com/uc?id={file_id}&confirm=t'\n",
        "\n",
        "# Download the file\n",
        "gdown.download(url, 'input_gps.txt', quiet=False)\n",
        "\n",
        "# Load it with NumPy\n",
        "import numpy as np\n",
        "input_gps = np.loadtxt('input_gps.txt')"
      ],
      "metadata": {
        "id": "WkxNLQ-hpuHT",
        "colab": {
          "base_uri": "https://localhost:8080/"
        },
        "outputId": "34d11607-30d4-436d-d3e7-7df764d8eff9"
      },
      "execution_count": 12,
      "outputs": [
        {
          "output_type": "stream",
          "name": "stderr",
          "text": [
            "Downloading...\n",
            "From: https://drive.google.com/uc?id=1NRvx1o3hlQiwVsigVSQ2zJ_MecG78Pbu&confirm=t\n",
            "To: /content/input_gps.txt\n",
            "100%|██████████| 3.96k/3.96k [00:00<00:00, 6.84MB/s]\n"
          ]
        }
      ]
    },
    {
      "cell_type": "code",
      "source": [
        "# Calcular o instante de medida com base no número USP\n",
        "NUSP = 12610305\n",
        "tm = (NUSP % 5) * 15  # em minutos\n",
        "\n",
        "# Filtrar as linhas com instante igual a tm\n",
        "instante_desejado = tm\n",
        "dados_instante = input_gps[input_gps[:, 1] == instante_desejado]\n",
        "\n",
        "# Verificação: deve conter 7 linhas e a segunda coluna deve conter apenas tm\n",
        "assert dados_instante.shape == (7, 6), \"Erro: não foram encontrados 7 satélites para o instante desejado.\"\n",
        "assert np.all(dados_instante[:, 1] == tm), \"Erro: instante de medida inconsistente.\"\n",
        "\n",
        "# Exibir a matriz 7x6 correspondente ao instante\n",
        "print(f\"Matriz de satélites para t = {tm} minutos:\")\n",
        "print(dados_instante)\n"
      ],
      "metadata": {
        "colab": {
          "base_uri": "https://localhost:8080/"
        },
        "id": "WZRbUca3vHdM",
        "outputId": "bc2266e8-efb3-4329-c342-a8aac2930c7b"
      },
      "execution_count": 13,
      "outputs": [
        {
          "output_type": "stream",
          "name": "stdout",
          "text": [
            "Matriz de satélites para t = 0 minutos:\n",
            "[[ 1.00000000e+00  0.00000000e+00 -1.71043262e+07 -5.22851009e+06\n",
            "   1.98114707e+07  2.34869342e+07]\n",
            " [ 2.00000000e+00  0.00000000e+00 -3.77208364e+06 -2.64154682e+07\n",
            "   1.17640822e+05  2.24307618e+07]\n",
            " [ 1.60000000e+01  0.00000000e+00  2.60036705e+06 -2.58041067e+07\n",
            "   5.85324527e+06  2.12819017e+07]\n",
            " [ 2.00000000e+01  0.00000000e+00 -1.30610557e+07 -1.49746105e+07\n",
            "   1.75417460e+07  2.15423939e+07]\n",
            " [ 2.50000000e+01  0.00000000e+00  8.15188814e+06 -1.36415314e+07\n",
            "   2.16241596e+07  2.12150373e+07]\n",
            " [ 1.40000000e+01  0.00000000e+00  2.08870794e+07 -1.61598188e+07\n",
            "   3.06898076e+06  2.36749103e+07]\n",
            " [ 6.00000000e+00  0.00000000e+00  2.26660343e+07 -2.99004344e+06\n",
            "   1.38428759e+07  2.45993565e+07]]\n"
          ]
        }
      ]
    },
    {
      "cell_type": "code",
      "source": [
        "# Instante das medições\n",
        "tm = (12610305 % 5) * 15  # => tm = 0\n",
        "print('tm =', tm)\n",
        "print()\n",
        "\n",
        "# Extração dos dados para o instante tm do array input_gps\n",
        "meus_dados = input_gps[input_gps[:, 1] == tm]\n",
        "\n",
        "# Impressão (restringindo a precisão para caber na tela)\n",
        "for row in meus_dados:\n",
        "    # First two columns as integers\n",
        "    print(f\"{int(row[0]):3d} {int(row[1]):3d} \", end=\"\")\n",
        "\n",
        "    # Remaining columns with sete casas significativas\n",
        "    print(\" \".join(f\"{val:15.6e}\" for val in row[2:]))\n"
      ],
      "metadata": {
        "id": "oNE86nt2DUGC",
        "colab": {
          "base_uri": "https://localhost:8080/"
        },
        "outputId": "48c3e4c3-99bf-405e-97ea-463901bbe779"
      },
      "execution_count": 14,
      "outputs": [
        {
          "output_type": "stream",
          "name": "stdout",
          "text": [
            "tm = 0\n",
            "\n",
            "  1   0   -1.710433e+07   -5.228510e+06    1.981147e+07    2.348693e+07\n",
            "  2   0   -3.772084e+06   -2.641547e+07    1.176408e+05    2.243076e+07\n",
            " 16   0    2.600367e+06   -2.580411e+07    5.853245e+06    2.128190e+07\n",
            " 20   0   -1.306106e+07   -1.497461e+07    1.754175e+07    2.154239e+07\n",
            " 25   0    8.151888e+06   -1.364153e+07    2.162416e+07    2.121504e+07\n",
            " 14   0    2.088708e+07   -1.615982e+07    3.068981e+06    2.367491e+07\n",
            "  6   0    2.266603e+07   -2.990043e+06    1.384288e+07    2.459936e+07\n"
          ]
        }
      ]
    },
    {
      "cell_type": "markdown",
      "source": [
        "2. Você irá trabalhar somente com as terceira, quarta, quinta e sexta colunas da matriz de dados do item 1. Com estes dados, construa o sistema linear sobredeterminado $(3)$ e **resolva o sistema normal usando a decomposição** $LU$ que você implementou. Armazene e imprima a solução. Ela será usada como condição inicial para o Método de Newton.\n",
        "\n"
      ],
      "metadata": {
        "id": "YfIg1sA2Y9nZ"
      }
    },
    {
      "cell_type": "code",
      "source": [
        "#***IMPLEMENTE AQUI A SOLUÇÃO DO SISTEMA NORMAL (a resposta deve ser um array com 4 elementos)\n",
        "\n",
        "# Extrai apenas as colunas x_i, y_i, z_i, w_i\n",
        "sat_coords = meus_dados[:, 2:6]\n",
        "\n",
        "# Satélite de referência (o 7º)\n",
        "xr, yr, zr, wr = sat_coords[6]\n",
        "\n",
        "# Construção do sistema linear A * x = b\n",
        "A = []\n",
        "b = []\n",
        "\n",
        "for i in range(6):  # satélites 0 a 5 (primeiros 6)\n",
        "    xi, yi, zi, wi = sat_coords[i]\n",
        "\n",
        "    ai = [\n",
        "        2 * (xr - xi),\n",
        "        2 * (yr - yi),\n",
        "        2 * (zr - zi),\n",
        "        2 * (wr - wi)\n",
        "    ]\n",
        "    bi = xr**2 - xi**2 + yr**2 - yi**2 + zr**2 - zi**2 + wr**2 - wi**2\n",
        "\n",
        "    A.append(ai)\n",
        "    b.append(bi)\n",
        "\n",
        "A = np.array(A)\n",
        "b = np.array(b)\n",
        "\n",
        "# Sistema normal: Aᵗ A x = Aᵗ b\n",
        "AtA = A.T @ A\n",
        "Atb = A.T @ b\n",
        "\n",
        "# Resolver com LU\n",
        "LU, p = lu_dcmp(AtA)\n",
        "x_normal = lu_solve(LU, p, Atb)\n",
        "\n",
        "# Impressão da solução\n",
        "print('Solução do sistema normal:', \"\".join(f\"{val:15.6e}\" for val in x_normal))\n"
      ],
      "metadata": {
        "id": "g243nyBq7Bhs",
        "colab": {
          "base_uri": "https://localhost:8080/"
        },
        "outputId": "7298e701-0ef7-4ec8-d3e6-90c6b25c457e"
      },
      "execution_count": 16,
      "outputs": [
        {
          "output_type": "stream",
          "name": "stdout",
          "text": [
            "Solução do sistema normal:    3.020028e+05  -4.326742e+06   3.824092e+06   4.303395e+07\n"
          ]
        }
      ]
    },
    {
      "cell_type": "markdown",
      "source": [
        "3. Com os mesmos dados do item anterior, programe duas funções: uma para $F=\\nabla g$ (queremos achar raízes da equação $(2)$) e outra para a matriz Jacobiana $J_F$ de $F$. Resolva o sistema não linear $F(\\mathbf{x})=0$ para obter a solução $\\bar{\\mathbf{x}} = (\\bar x, \\bar y, \\bar z, \\bar w)$ da equação $(2)$ usando a implementação do Método de Newton descrita acima. Armazene e imprima a solução, e imprima separadamente o erro de sincronia $T=\\bar w / c$. Qual é o erro relativo entre as soluções de $(2)$ e $(3)$?\n",
        "\n"
      ],
      "metadata": {
        "id": "yNutXz71CpNK"
      }
    },
    {
      "cell_type": "code",
      "source": [
        "# Matriz com os dados dos satélites: colunas (x_i, y_i, z_i, w_i)\n",
        "xyzw = meus_dados[:, 2:6]\n",
        "c = 299_792_458  # velocidade da luz em m/s\n",
        "\n",
        "# Função F(x) = gradiente de g(x, y, z, w)\n",
        "def F(x):\n",
        "    x0, y0, z0, w0 = x\n",
        "    Fx = np.zeros(4)\n",
        "    for xi, yi, zi, wi in xyzw:\n",
        "        r = (x0 - xi)**2 + (y0 - yi)**2 + (z0 - zi)**2 - (wi - w0)**2\n",
        "        Fx[0] += 2 * r * 2 * (x0 - xi)\n",
        "        Fx[1] += 2 * r * 2 * (y0 - yi)\n",
        "        Fx[2] += 2 * r * 2 * (z0 - zi)\n",
        "        Fx[3] += 2 * r * (-2) * (wi - w0)\n",
        "    return Fx\n",
        "\n",
        "# Jacobiana de F (ou seja, Hessiana de g)\n",
        "def JF(x):\n",
        "    x0, y0, z0, w0 = x\n",
        "    J = np.zeros((4, 4))\n",
        "    for xi, yi, zi, wi in xyzw:\n",
        "        dx = x0 - xi\n",
        "        dy = y0 - yi\n",
        "        dz = z0 - zi\n",
        "        dw = wi - w0\n",
        "        r = dx**2 + dy**2 + dz**2 - dw**2\n",
        "\n",
        "        J[0, 0] += 4 * dx**2 + 2 * r * 2\n",
        "        J[1, 1] += 4 * dy**2 + 2 * r * 2\n",
        "        J[2, 2] += 4 * dz**2 + 2 * r * 2\n",
        "        J[3, 3] += 4 * dw**2 + 2 * r * 2\n",
        "\n",
        "        J[0, 3] += -8 * dx * dw\n",
        "        J[1, 3] += -8 * dy * dw\n",
        "        J[2, 3] += -8 * dz * dw\n",
        "\n",
        "    # simetria da hessiana\n",
        "    J[3, 0] = J[0, 3]\n",
        "    J[3, 1] = J[1, 3]\n",
        "    J[3, 2] = J[2, 3]\n",
        "    return J\n",
        "\n",
        "# Resolução do sistema F(x) = 0 via método de Newton\n",
        "x_barra = newton_sitemas(F, JF, x_normal, tol=1e-10, max_iter=50)\n",
        "\n",
        "# Imprime a solução\n",
        "print(\"Solução pelo Método de Newton (x̄, ȳ, z̄, w̄):\")\n",
        "print(\"\".join(f\"{val:15.6e}\" for val in x_barra))\n",
        "\n",
        "# Imprime T = w / c\n",
        "T = x_barra[3] / c\n",
        "print(f\"\\nErro de sincronia T = w / c: {T:.12f} segundos\")\n",
        "\n",
        "# Calcula e imprime o erro relativo entre x_barra e x_normal\n",
        "erro_relativo = np.linalg.norm(x_barra - x_normal, ord=2) / np.linalg.norm(x_barra, ord=2)\n",
        "print(f\"\\nErro relativo entre soluções do sistema normal e sistema não linear: {erro_relativo:.12e}\")\n"
      ],
      "metadata": {
        "id": "DTKmI9TEC6DG",
        "colab": {
          "base_uri": "https://localhost:8080/"
        },
        "outputId": "73c1b087-287d-4b88-862b-84734921adae"
      },
      "execution_count": 17,
      "outputs": [
        {
          "output_type": "stream",
          "name": "stdout",
          "text": [
            "Convergência em 33 iterações.\n",
            "Solução pelo Método de Newton (x̄, ȳ, z̄, w̄):\n",
            "   2.908267e+06  -1.303348e+07   1.153582e+07   2.305752e+07\n",
            "\n",
            "Erro de sincronia T = w / c: 0.076911614438 segundos\n",
            "\n",
            "Erro relativo entre soluções do sistema normal e sistema não linear: 8.011658751737e-01\n"
          ]
        }
      ]
    },
    {
      "cell_type": "markdown",
      "source": [
        "4. Para as soluções de $(2)$ e $(3)$, determine as latitudes, longitudes e elevações (coordenadas geográficas) e localize-as no globo terrestre."
      ],
      "metadata": {
        "id": "pRdhiUj9HtJc"
      }
    },
    {
      "cell_type": "code",
      "source": [
        "def cartesiano_para_geografico(xyz):\n",
        "    x, y, z = xyz[:3]  # pega apenas os 3 primeiros (x, y, z)\n",
        "    R = 6_371_000  # raio médio da Terra em metros\n",
        "\n",
        "    lon = np.arctan2(y, x)\n",
        "    r_xy = np.sqrt(x**2 + y**2)\n",
        "    lat = np.arctan2(z, r_xy)\n",
        "    alt = np.sqrt(x**2 + y**2 + z**2) - R\n",
        "\n",
        "    # Converter radianos para graus\n",
        "    lon_deg = np.degrees(lon)\n",
        "    lat_deg = np.degrees(lat)\n",
        "\n",
        "    return lat_deg, lon_deg, alt\n",
        "\n",
        "# Coordenadas da solução do sistema normal (3)\n",
        "lat3, lon3, alt3 = cartesiano_para_geografico(x_normal)\n",
        "\n",
        "# Coordenadas da solução do sistema não linear (2)\n",
        "lat2, lon2, alt2 = cartesiano_para_geografico(x_barra)\n",
        "\n",
        "# Impressão\n",
        "print(\"Solução do sistema linear (3):\")\n",
        "print(f\"Latitude:  {lat3:.6f}°\")\n",
        "print(f\"Longitude: {lon3:.6f}°\")\n",
        "print(f\"Altitude:  {alt3:.2f} m\\n\")\n",
        "\n",
        "print(\"Solução do sistema não linear (2):\")\n",
        "print(f\"Latitude:  {lat2:.6f}°\")\n",
        "print(f\"Longitude: {lon2:.6f}°\")\n",
        "print(f\"Altitude:  {alt2:.2f} m\")\n"
      ],
      "metadata": {
        "id": "agsMkodAIKdA",
        "colab": {
          "base_uri": "https://localhost:8080/"
        },
        "outputId": "373dd610-0322-49ec-b47b-ba005ae3508a"
      },
      "execution_count": 18,
      "outputs": [
        {
          "output_type": "stream",
          "name": "stdout",
          "text": [
            "Solução do sistema linear (3):\n",
            "Latitude:  41.402046°\n",
            "Longitude: -86.007280°\n",
            "Altitude:  -588649.02 m\n",
            "\n",
            "Solução do sistema não linear (2):\n",
            "Latitude:  40.821977°\n",
            "Longitude: -77.421197°\n",
            "Altitude:  11275667.20 m\n"
          ]
        }
      ]
    },
    {
      "cell_type": "markdown",
      "source": [
        "Latidude, longitude e elevação correspondentes à solução do sistema normal:\n",
        "\n",
        "**Resposta**\n",
        "Latitude: 41.402046°\n",
        "Longitude: -86.007280°\n",
        "Elevação: -588.649,02 m\n",
        "\n",
        "Latidude, longitude e elevação correspondentes à solução do sistema não linear:\n",
        "\n",
        "**Resposta**\n",
        "Latitude: 40.821977°\n",
        "Longitude: -77.421197°\n",
        "Elevação: 11.275.667,20 m"
      ],
      "metadata": {
        "id": "eH2C5unZIj_I"
      }
    },
    {
      "cell_type": "markdown",
      "source": [
        "As coordenadas geográficas foram obtidas a partir das soluções cartesianas (x, y, z) dos sistemas (3) e (2). Para isso, apliquei fórmulas conhecidas de conversão de  coordenadas cartesianas para geográficas, assumindo a Terra como uma esfera de raio médio R = 6.371 × 10^6 metros. A latitude foi calculada por arctan2(z, sqrt(x^2 + y^2)), a longitude por arctan2(y, x), e a elevação pela diferença entre a norma do vetor posição  e o raio da Terra. As coordenadas resultantes foram expressas em graus e metros."
      ],
      "metadata": {
        "id": "SAB6AYToIRFz"
      }
    }
  ]
}